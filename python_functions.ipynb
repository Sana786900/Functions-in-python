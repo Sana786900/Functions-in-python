{
  "nbformat": 4,
  "nbformat_minor": 0,
  "metadata": {
    "colab": {
      "provenance": []
    },
    "kernelspec": {
      "name": "python3",
      "display_name": "Python 3"
    },
    "language_info": {
      "name": "python"
    }
  },
  "cells": [
    {
      "cell_type": "markdown",
      "source": [
        "# **Python function that takes a list of numbers as input and returns the sum of all even numbers in the list**"
      ],
      "metadata": {
        "id": "mU3LaALpPesS"
      }
    },
    {
      "cell_type": "code",
      "source": [
        "def sum_of_even_numbers(numbers):\n",
        "    even_sum = 0\n",
        "    for num in numbers:\n",
        "       if num % 2 == 0:\n",
        "            even_sum += num\n",
        "    return even_sum\n",
        "\n",
        "numbers_list = [1, 2, 3, 4, 5, 6]\n",
        "result = sum_of_even_numbers(numbers_list)\n",
        "\n",
        "\n",
        "\n",
        "print(f\"The sum of even numbers is: {result}\")\n"
      ],
      "metadata": {
        "colab": {
          "base_uri": "https://localhost:8080/"
        },
        "id": "kqGiU5xSPxGt",
        "outputId": "11d49f63-7a25-4e43-f79c-a6d65a1a6820"
      },
      "execution_count": 1,
      "outputs": [
        {
          "output_type": "stream",
          "name": "stdout",
          "text": [
            "The sum of even numbers is: 12\n"
          ]
        }
      ]
    },
    {
      "cell_type": "markdown",
      "source": [
        "# **Python function that accepts a string and returns the reverse of that string**"
      ],
      "metadata": {
        "id": "tgnvfKuhRiKh"
      }
    },
    {
      "cell_type": "code",
      "source": [
        "user_input = input(\"Enter a string to reverse: \")\n",
        "\n",
        "def reverse_string(input_string):\n",
        "    # Reverse the string using slicing\n",
        "\n",
        "    reversed_string = input_string[::-1]\n",
        "    return reversed_string\n",
        "result = reverse_string(user_input)\n",
        "\n",
        "\n",
        "print(f\"The reversed string is: {result}\")\n"
      ],
      "metadata": {
        "colab": {
          "base_uri": "https://localhost:8080/"
        },
        "id": "bRQAu_wVRqHr",
        "outputId": "8c0c1a1f-046f-4389-adb1-ffff0b65385c"
      },
      "execution_count": 3,
      "outputs": [
        {
          "output_type": "stream",
          "name": "stdout",
          "text": [
            "Enter a string to reverse: sa\n",
            "The reversed string is: as\n"
          ]
        }
      ]
    },
    {
      "cell_type": "markdown",
      "source": [
        "# **Python function modified to take user input for a list of integers, and then return a new list containing the squares of each number**"
      ],
      "metadata": {
        "id": "KqkKfl6XTrLS"
      }
    },
    {
      "cell_type": "code",
      "source": [
        "user_input = input(\"Enter a list of numbers : \")\n",
        "\n",
        "\n",
        "def square_numbers(numbers):\n",
        "\n",
        "    squared_list = [num ** 2 for num in numbers]\n",
        "    return squared_list\n",
        "\n",
        "\n",
        "numbers_list = list(map(int, user_input.split()))\n",
        "\n",
        "\n",
        "result = square_numbers(numbers_list)\n",
        "print(f\"The list of squared numbers is: {result}\")\n"
      ],
      "metadata": {
        "colab": {
          "base_uri": "https://localhost:8080/"
        },
        "id": "1x9_5NoBTugc",
        "outputId": "2cdbb638-77f8-4c0a-a852-8f4118c2bea1"
      },
      "execution_count": 5,
      "outputs": [
        {
          "output_type": "stream",
          "name": "stdout",
          "text": [
            "Enter a list of numbers : 1 2 3\n",
            "The list of squared numbers is: [1, 4, 9]\n"
          ]
        }
      ]
    },
    {
      "cell_type": "markdown",
      "source": [
        "# **Python function that checks if a given number is prime or not, specifically for numbers in the range from 1 to 200**"
      ],
      "metadata": {
        "id": "_f3i40YFU4Vu"
      }
    },
    {
      "cell_type": "code",
      "source": [
        "def is_prime(number):\n",
        "\n",
        "    if number < 2:\n",
        "        return False\n",
        "\n",
        "\n",
        "    for i in range(2, int(number ** 0.5) + 1):\n",
        "        if number % i == 0:\n",
        "            return False\n",
        "\n",
        "    return True\n",
        "\n",
        "prime_numbers = list(filter(is_prime, range(1, 201)))\n",
        "\n",
        "print(\"Prime numbers from 1 to 200 are:\")\n",
        "print(prime_numbers)\n"
      ],
      "metadata": {
        "colab": {
          "base_uri": "https://localhost:8080/"
        },
        "id": "9rAO-rM3Ywx7",
        "outputId": "6f76dea0-6f5c-4308-8484-a54de3d75208"
      },
      "execution_count": 34,
      "outputs": [
        {
          "output_type": "stream",
          "name": "stdout",
          "text": [
            "Prime numbers from 1 to 200 are:\n",
            "[2, 3, 5, 7, 11, 13, 17, 19, 23, 29, 31, 37, 41, 43, 47, 53, 59, 61, 67, 71, 73, 79, 83, 89, 97, 101, 103, 107, 109, 113, 127, 131, 137, 139, 149, 151, 157, 163, 167, 173, 179, 181, 191, 193, 197, 199]\n"
          ]
        }
      ]
    },
    {
      "cell_type": "code",
      "source": [],
      "metadata": {
        "id": "WMF3tS4scYKm"
      },
      "execution_count": null,
      "outputs": []
    },
    {
      "cell_type": "markdown",
      "source": [
        "# **iterator class in Python that generates the Fibonacci sequence up to a specified number of terms**"
      ],
      "metadata": {
        "id": "Fv6b70tzcbxA"
      }
    },
    {
      "cell_type": "code",
      "source": [
        "class FibonacciIterator:\n",
        "    def __init__(number, n):\n",
        "        number.n = n\n",
        "        number.a, number.b = 0, 1\n",
        "        number.count = 0\n",
        "\n",
        "    def __iter__(number):\n",
        "        return number\n",
        "\n",
        "\n",
        "    def __next__(number):\n",
        "        if number.count < number.n:\n",
        "\n",
        "            number.a, number.b = number.b, number.a + number.b\n",
        "            number.count += 1\n",
        "            return number.a\n",
        "        else:\n",
        "\n",
        "            raise StopIteration\n",
        "\n",
        "\n",
        "n_terms = 10\n",
        "fibonacci_sequence = FibonacciIterator(n_terms)\n",
        "\n",
        "for number in fibonacci_sequence:\n",
        "    print(number)\n"
      ],
      "metadata": {
        "colab": {
          "base_uri": "https://localhost:8080/"
        },
        "id": "xUXMczTrct0P",
        "outputId": "7f542b19-4020-4007-9409-9572ed0e92d4"
      },
      "execution_count": 40,
      "outputs": [
        {
          "output_type": "stream",
          "name": "stdout",
          "text": [
            "1\n",
            "1\n",
            "2\n",
            "3\n",
            "5\n",
            "8\n",
            "13\n",
            "21\n",
            "34\n",
            "55\n"
          ]
        }
      ]
    },
    {
      "cell_type": "markdown",
      "source": [
        "# **generator function in Python that yields the powers of 2 up to a given exponent**"
      ],
      "metadata": {
        "id": "B26hp3g2fWEH"
      }
    },
    {
      "cell_type": "code",
      "source": [
        "def powers_of_2(exponent):\n",
        "    \"\"\"Generator function to yield powers of 2 up to the given exponent.\"\"\"\n",
        "    for i in range(exponent + 1):\n",
        "        yield 2 ** i\n",
        "\n",
        "try:\n",
        "    user_input = int(input(\"Enter the maximum exponent for powers of 2: \"))\n",
        "    if user_input < 0:\n",
        "        print(\"Exponent should be a non-negative integer.\")\n",
        "    else:\n",
        "\n",
        "        for power in powers_of_2(user_input):\n",
        "            print(power)\n",
        "except ValueError:\n",
        "    print(\"Please enter a valid integer.\")\n"
      ],
      "metadata": {
        "colab": {
          "base_uri": "https://localhost:8080/"
        },
        "id": "HslyWz6-ffSg",
        "outputId": "b2aae34a-14c0-4e50-9b46-f5e43ead55dc"
      },
      "execution_count": 41,
      "outputs": [
        {
          "output_type": "stream",
          "name": "stdout",
          "text": [
            "Enter the maximum exponent for powers of 2: 4\n",
            "1\n",
            "2\n",
            "4\n",
            "8\n",
            "16\n"
          ]
        }
      ]
    },
    {
      "cell_type": "markdown",
      "source": [
        "# **Implement a generator function that reads a file line by line and yields each line as a string**"
      ],
      "metadata": {
        "id": "ZfYNtU8XgQvD"
      }
    },
    {
      "cell_type": "code",
      "source": [
        "def read_lines(filename):\n",
        "    \"\"\"Generator function to read a file line by line and yield each line.\"\"\"\n",
        "    with open(filename, 'r') as file:\n",
        "        for line in file:\n",
        "            yield line.strip()\n",
        "\n",
        "filename = input(\"Enter the filename to read: \")\n",
        "for line in read_lines(filename):\n",
        "    print(line)\n"
      ],
      "metadata": {
        "id": "-2MP_ep-hv4V"
      },
      "execution_count": null,
      "outputs": []
    },
    {
      "cell_type": "markdown",
      "source": [
        "# **lambda function in Python to sort a list of tuples based on the second element of each tuple**"
      ],
      "metadata": {
        "id": "htG_gf3piqS_"
      }
    },
    {
      "cell_type": "code",
      "source": [
        "\n",
        "tuples_list = [(86, 3), (63, 1), (36, 2), (66, 4)]\n",
        "\n",
        "\n",
        "sorted_list = sorted(tuples_list, key=lambda x: x[1])\n",
        "\n",
        "print(\"Sorted list:\", sorted_list)\n"
      ],
      "metadata": {
        "id": "ICVSqubsiuBP"
      },
      "execution_count": null,
      "outputs": []
    },
    {
      "cell_type": "markdown",
      "source": [
        "# **Python program that uses map() to convert a list of temperatures from Celsius to Fahrenheit**"
      ],
      "metadata": {
        "id": "9FnJVWjhjr8p"
      }
    },
    {
      "cell_type": "code",
      "source": [
        "\n",
        "celsius_temperatures = [0, 200, 370, 100]\n",
        "\n",
        "fahrenheit_temperatures = list(map(lambda c: (c * 9/5) + 32, celsius_temperatures))\n",
        "\n",
        "print(\"Temperatures in Fahrenheit:\", fahrenheit_temperatures)\n"
      ],
      "metadata": {
        "id": "1fwBKa07jw2h"
      },
      "execution_count": null,
      "outputs": []
    },
    {
      "cell_type": "markdown",
      "source": [
        "\n",
        "# **Python program that uses filter to remove all the vowels from a given string.**"
      ],
      "metadata": {
        "id": "V_1OoqMbkRAI"
      }
    },
    {
      "cell_type": "code",
      "source": [
        "user_input = input(\"Enter a string: \")\n",
        "\n",
        "def remove_vowels(input_string):\n",
        "\n",
        "    vowels = 'AEIOUaeiou'\n",
        "    result = ''.join(filter(lambda char: char not in vowels, input_string))\n",
        "\n",
        "    return result\n",
        "\n",
        "\n",
        "output_string = remove_vowels(user_input)\n",
        "\n",
        "print(\"String without vowels:\", output_string)\n"
      ],
      "metadata": {
        "id": "PIt9wrFckbH2"
      },
      "execution_count": null,
      "outputs": []
    },
    {
      "cell_type": "markdown",
      "source": [
        "# **which returns a list with 2-tuples**"
      ],
      "metadata": {
        "id": "Hy0ornXwniQd"
      }
    },
    {
      "cell_type": "code",
      "source": [
        "def calculate_order_values(orders):\n",
        "\n",
        "\n",
        "  return list(map(lambda order: (order[0], (order[2] * order[3]) + 10 if (order[2] * order[3]) < 100 else (order[2] * order[3])), orders))\n",
        "\n",
        "orders = [\n",
        "  [34587, \"Learning Python, Mark Lutz\", 4, 40.95],\n",
        "  [98762, \"Programming Python, Mark Lutz\", 5, 56.80],\n",
        "  [77226, \"Head First Python, Paul Barry\", 3, 32.95],\n",
        "  [88112, \"Einführung in Python3, Bernd Klein\", 3, 24.99]\n",
        "]\n",
        "\n",
        "result = calculate_order_values(orders)\n",
        "print(result)"
      ],
      "metadata": {
        "colab": {
          "base_uri": "https://localhost:8080/"
        },
        "id": "osvKD7z_nAvi",
        "outputId": "06a034e2-5e33-4bed-93e4-bf2b827b1035"
      },
      "execution_count": 43,
      "outputs": [
        {
          "output_type": "stream",
          "name": "stdout",
          "text": [
            "[(34587, 163.8), (98762, 284.0), (77226, 108.85000000000001), (88112, 84.97)]\n"
          ]
        }
      ]
    }
  ]
}